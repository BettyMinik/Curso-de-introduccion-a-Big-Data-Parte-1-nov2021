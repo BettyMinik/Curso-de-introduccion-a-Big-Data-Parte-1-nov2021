{
  "nbformat": 4,
  "nbformat_minor": 0,
  "metadata": {
    "colab": {
      "name": "Ejercicios_de_bucles_y_funciones.ipynb",
      "provenance": [],
      "collapsed_sections": [],
      "include_colab_link": true
    },
    "kernelspec": {
      "name": "python3",
      "display_name": "Python 3"
    },
    "language_info": {
      "name": "python"
    }
  },
  "cells": [
    {
      "cell_type": "markdown",
      "metadata": {
        "id": "view-in-github",
        "colab_type": "text"
      },
      "source": [
        "<a href=\"https://colab.research.google.com/github/BettyMinik/Curso-de-introduccion-a-Big-Data-Parte-1-nov2021/blob/main/Ejercicios_de_bucles_y_funciones.ipynb\" target=\"_parent\"><img src=\"https://colab.research.google.com/assets/colab-badge.svg\" alt=\"Open In Colab\"/></a>"
      ]
    },
    {
      "cell_type": "markdown",
      "metadata": {
        "id": "vtPh0W9YRARa"
      },
      "source": [
        "1. Escriba un programa que pida al usuario un número entero positivo y muestre por pantalla todos los números desde 1 hasta ese número."
      ]
    },
    {
      "cell_type": "code",
      "metadata": {
        "colab": {
          "base_uri": "https://localhost:8080/"
        },
        "id": "r5QHuS0mZ-E8",
        "outputId": "422688f1-cc68-4756-a54a-785abd7e6d5b"
      },
      "source": [
        "n=input(\"introduzca numero positivo\")\n",
        "for i in range(int(n)):\n",
        "  print(i+1)"
      ],
      "execution_count": 22,
      "outputs": [
        {
          "output_type": "stream",
          "name": "stdout",
          "text": [
            "introduzca numero positivo5\n",
            "1\n",
            "2\n",
            "3\n",
            "4\n",
            "5\n"
          ]
        }
      ]
    },
    {
      "cell_type": "markdown",
      "metadata": {
        "id": "1nfFwNu3S5Pr"
      },
      "source": [
        "2. Escriba un programa que pida al usuario una palabra y luego muestre por pantalla una a una las letras de la palabra introducida empezando por la última."
      ]
    },
    {
      "cell_type": "code",
      "metadata": {
        "colab": {
          "base_uri": "https://localhost:8080/"
        },
        "id": "AH8LSc-dcZtq",
        "outputId": "137755b0-b809-4905-e3d5-4aff3cdf5ff9"
      },
      "source": [
        "palabra=input(\"introduce\")\n",
        "i=len(palabra) -1\n",
        "while i>=0:\n",
        "    print (palabra[i])\n",
        "    i=i-1"
      ],
      "execution_count": 23,
      "outputs": [
        {
          "output_type": "stream",
          "name": "stdout",
          "text": [
            "introducehola\n",
            "a\n",
            "l\n",
            "o\n",
            "h\n"
          ]
        }
      ]
    },
    {
      "cell_type": "markdown",
      "metadata": {
        "id": "2PVsgmVVTzD7"
      },
      "source": [
        "3. Escriba un programa que realice una cuenta atrás desde 10 usando \"while\""
      ]
    },
    {
      "cell_type": "code",
      "metadata": {
        "colab": {
          "base_uri": "https://localhost:8080/"
        },
        "id": "DG9rhsT-bbh2",
        "outputId": "6d415c62-34c2-4ea9-fd94-9cfaf54de232"
      },
      "source": [
        "n=10\n",
        "while n>0 :\n",
        "  print (n)\n",
        "  n = n -  1\n"
      ],
      "execution_count": 13,
      "outputs": [
        {
          "output_type": "stream",
          "name": "stdout",
          "text": [
            "10\n",
            "9\n",
            "8\n",
            "7\n",
            "6\n",
            "5\n",
            "4\n",
            "3\n",
            "2\n",
            "1\n"
          ]
        }
      ]
    },
    {
      "cell_type": "code",
      "metadata": {
        "id": "sJq3_pPZba2T"
      },
      "source": [
        ""
      ],
      "execution_count": null,
      "outputs": []
    },
    {
      "cell_type": "markdown",
      "metadata": {
        "id": "5nLjf-yPVBE8"
      },
      "source": [
        "4. Escribir una función que muestre por pantalla el saludo ¡Hola! cada vez que se la invoque."
      ]
    },
    {
      "cell_type": "code",
      "metadata": {
        "id": "kAzvKiX1a8qT"
      },
      "source": [
        "def F_Hola():\n",
        "  print(\"Hola\")"
      ],
      "execution_count": 9,
      "outputs": []
    },
    {
      "cell_type": "code",
      "metadata": {
        "colab": {
          "base_uri": "https://localhost:8080/"
        },
        "id": "9C5_AWDFbGba",
        "outputId": "72ef5af0-26a9-44dd-93e5-4a2662419dd4"
      },
      "source": [
        "F_Hola()"
      ],
      "execution_count": 10,
      "outputs": [
        {
          "output_type": "stream",
          "name": "stdout",
          "text": [
            "Hola\n"
          ]
        }
      ]
    },
    {
      "cell_type": "markdown",
      "metadata": {
        "id": "lpkaJay0VkO0"
      },
      "source": [
        "5. Escribir una función que solicite el nombre al usuario y muestre por pantalla el saludo ¡Hola +nombre! con el nombre del usuario"
      ]
    },
    {
      "cell_type": "code",
      "metadata": {
        "colab": {
          "base_uri": "https://localhost:8080/"
        },
        "id": "alv49hDVb96O",
        "outputId": "a47b4a7c-c5d6-4c15-8436-355fc360a070"
      },
      "source": [
        "nombre= input(\"introduzca nombre\")\n",
        "print(\"hola \" + nombre)"
      ],
      "execution_count": 14,
      "outputs": [
        {
          "output_type": "stream",
          "name": "stdout",
          "text": [
            "introduzca nombredfad\n",
            "hola dfad\n"
          ]
        }
      ]
    },
    {
      "cell_type": "markdown",
      "metadata": {
        "id": "qexAwuG4W8ak"
      },
      "source": [
        "6. Escriba una función llamada hipotenusa que devuelva el valor de la hipotenusa cuando se la invoque con el valor de los catetos de un triángulo rectángulo\n",
        "\n",
        "NOTA: \n",
        "\n",
        "$h^2 = a^2 + b^2$\n",
        "\n",
        "$h = (a^2 + b^2)^(1/2)$\n"
      ]
    },
    {
      "cell_type": "code",
      "metadata": {
        "id": "tr8_z5VScTGV"
      },
      "source": [
        "def hipotenusa(a, b):\n",
        "  return (a**2 + b**2) **(1/2)"
      ],
      "execution_count": 24,
      "outputs": []
    },
    {
      "cell_type": "code",
      "metadata": {
        "colab": {
          "base_uri": "https://localhost:8080/"
        },
        "id": "3yBoZfOVegZk",
        "outputId": "c581233a-1504-431d-c324-49ad126ded72"
      },
      "source": [
        "hipotenusa(3,4)"
      ],
      "execution_count": 25,
      "outputs": [
        {
          "output_type": "execute_result",
          "data": {
            "text/plain": [
              "5.0"
            ]
          },
          "metadata": {},
          "execution_count": 25
        }
      ]
    }
  ]
}