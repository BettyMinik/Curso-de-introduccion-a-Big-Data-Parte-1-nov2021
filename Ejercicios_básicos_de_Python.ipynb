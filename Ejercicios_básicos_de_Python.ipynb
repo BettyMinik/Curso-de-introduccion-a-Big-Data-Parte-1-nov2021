{
  "nbformat": 4,
  "nbformat_minor": 0,
  "metadata": {
    "colab": {
      "name": "Ejercicios_básicos_de_Python.ipynb",
      "provenance": [],
      "collapsed_sections": [],
      "include_colab_link": true
    },
    "kernelspec": {
      "name": "python3",
      "display_name": "Python 3"
    },
    "language_info": {
      "name": "python"
    }
  },
  "cells": [
    {
      "cell_type": "markdown",
      "metadata": {
        "id": "view-in-github",
        "colab_type": "text"
      },
      "source": [
        "<a href=\"https://colab.research.google.com/github/BettyMinik/Curso-de-introduccion-a-Big-Data-Parte-1-nov2021/blob/main/Ejercicios_b%C3%A1sicos_de_Python.ipynb\" target=\"_parent\"><img src=\"https://colab.research.google.com/assets/colab-badge.svg\" alt=\"Open In Colab\"/></a>"
      ]
    },
    {
      "cell_type": "markdown",
      "metadata": {
        "id": "RL-pITQqPt9a"
      },
      "source": [
        "1. Cree una lista denominada \"islas\" con los nombres de las Islas Canarias (sin La Graciosa)"
      ]
    },
    {
      "cell_type": "code",
      "metadata": {
        "id": "eZWknxf-LXbP"
      },
      "source": [
        "islas=[\"Tenerife\",\"Gran Canaria\",\"La Gomera\",\"La Palma\", \"El Hierro\",\"Lanzarote\", \"Fuerteventura\"]"
      ],
      "execution_count": 1,
      "outputs": []
    },
    {
      "cell_type": "markdown",
      "metadata": {
        "id": "F0uHBoNIQaol"
      },
      "source": [
        "2. Muestre el tipo de dato de \"islas\""
      ]
    },
    {
      "cell_type": "code",
      "metadata": {
        "colab": {
          "base_uri": "https://localhost:8080/"
        },
        "id": "CqPgsz8CMN0J",
        "outputId": "92c53b71-eca8-458e-e122-7f8aab1c80e7"
      },
      "source": [
        "type(islas)"
      ],
      "execution_count": 2,
      "outputs": [
        {
          "output_type": "execute_result",
          "data": {
            "text/plain": [
              "list"
            ]
          },
          "metadata": {},
          "execution_count": 2
        }
      ]
    },
    {
      "cell_type": "markdown",
      "metadata": {
        "id": "vtIi_BKuQhzB"
      },
      "source": [
        "3. ¿Cuántos elementos tiene la lista?"
      ]
    },
    {
      "cell_type": "code",
      "metadata": {
        "colab": {
          "base_uri": "https://localhost:8080/"
        },
        "id": "dp2TualOMR31",
        "outputId": "05d56253-a4ba-4bbb-a6bc-ac584e3175ba"
      },
      "source": [
        "len(islas)"
      ],
      "execution_count": 3,
      "outputs": [
        {
          "output_type": "execute_result",
          "data": {
            "text/plain": [
              "7"
            ]
          },
          "metadata": {},
          "execution_count": 3
        }
      ]
    },
    {
      "cell_type": "markdown",
      "metadata": {
        "id": "jdjxinSmQ07Z"
      },
      "source": [
        "4. Muestre el primer elemento de la lista. Muestre después el cuarto elemento de la lista"
      ]
    },
    {
      "cell_type": "code",
      "metadata": {
        "colab": {
          "base_uri": "https://localhost:8080/"
        },
        "id": "ju6balHCMV6a",
        "outputId": "b772496b-fb0b-473e-f26f-089611f44f4e"
      },
      "source": [
        "print(islas[0])\n",
        "print(islas[3])"
      ],
      "execution_count": 7,
      "outputs": [
        {
          "output_type": "stream",
          "name": "stdout",
          "text": [
            "Tenerife\n",
            "La Palma\n"
          ]
        }
      ]
    },
    {
      "cell_type": "markdown",
      "metadata": {
        "id": "92cUTXBLRKnG"
      },
      "source": [
        "5. Muestre el tipo de dato del primer elemento de la lista"
      ]
    },
    {
      "cell_type": "code",
      "metadata": {
        "colab": {
          "base_uri": "https://localhost:8080/"
        },
        "id": "7ZQ1nsS7MtJj",
        "outputId": "5a4e4e0b-b87a-4cca-dfb1-58551c75a45b"
      },
      "source": [
        "type(islas[0])"
      ],
      "execution_count": 8,
      "outputs": [
        {
          "output_type": "execute_result",
          "data": {
            "text/plain": [
              "str"
            ]
          },
          "metadata": {},
          "execution_count": 8
        }
      ]
    },
    {
      "cell_type": "markdown",
      "metadata": {
        "id": "0ZOTl4bnRQj2"
      },
      "source": [
        "6. Ordene la lista \"islas\" por orden alfabético y muéstrela en pantalla"
      ]
    },
    {
      "cell_type": "code",
      "metadata": {
        "colab": {
          "base_uri": "https://localhost:8080/"
        },
        "id": "qmVzHImuM2kt",
        "outputId": "8fb18c28-fd59-407f-a200-eca37a919c62"
      },
      "source": [
        "islas.sort()\n",
        "print(islas)"
      ],
      "execution_count": 37,
      "outputs": [
        {
          "output_type": "stream",
          "name": "stdout",
          "text": [
            "['El Hierro', 'Fuerteventura', 'Gran Canaria', 'La Gomera', 'La Palma', 'Lanzarote', 'Tenerife']\n"
          ]
        }
      ]
    },
    {
      "cell_type": "markdown",
      "metadata": {
        "id": "SoBsVMqwTK5m"
      },
      "source": [
        "7. Muestre el último elemento de la lista"
      ]
    },
    {
      "cell_type": "code",
      "metadata": {
        "colab": {
          "base_uri": "https://localhost:8080/"
        },
        "id": "8pe5QQBXM5EA",
        "outputId": "fb021b06-c181-48ee-f295-597cdfcd40d6"
      },
      "source": [
        "print(islas[6])\n",
        "print(islas[-1])"
      ],
      "execution_count": 9,
      "outputs": [
        {
          "output_type": "stream",
          "name": "stdout",
          "text": [
            "Fuerteventura\n",
            "Fuerteventura\n"
          ]
        }
      ]
    },
    {
      "cell_type": "markdown",
      "metadata": {
        "id": "B-a55S5hTaYJ"
      },
      "source": [
        "8. Muestre los tres primeros elementos de la lista"
      ]
    },
    {
      "cell_type": "code",
      "metadata": {
        "colab": {
          "base_uri": "https://localhost:8080/"
        },
        "id": "9g_nPD3nNF5e",
        "outputId": "11f3a4e4-7acb-4acc-e5a9-f891961b7ec8"
      },
      "source": [
        "print(islas[:3])"
      ],
      "execution_count": 11,
      "outputs": [
        {
          "output_type": "stream",
          "name": "stdout",
          "text": [
            "['Tenerife', 'Gran Canaria', 'La Gomera']\n"
          ]
        }
      ]
    },
    {
      "cell_type": "markdown",
      "metadata": {
        "id": "Nn98RkJwToVq"
      },
      "source": [
        "9. Muestre los dos últimos elementos de la lista"
      ]
    },
    {
      "cell_type": "code",
      "metadata": {
        "colab": {
          "base_uri": "https://localhost:8080/"
        },
        "id": "4OGCSyvTNPX4",
        "outputId": "5ddf6200-be1d-41a4-de41-4dc28c52fea8"
      },
      "source": [
        "print(islas[-2:])"
      ],
      "execution_count": 38,
      "outputs": [
        {
          "output_type": "stream",
          "name": "stdout",
          "text": [
            "['Lanzarote', 'Tenerife']\n"
          ]
        }
      ]
    },
    {
      "cell_type": "markdown",
      "metadata": {
        "id": "3wYntBwBXL3P"
      },
      "source": [
        "10. ¿qué posición ocupa \"La Gomera\" en la lista \"islas\"?"
      ]
    },
    {
      "cell_type": "code",
      "metadata": {
        "colab": {
          "base_uri": "https://localhost:8080/"
        },
        "id": "jA199oScNuUJ",
        "outputId": "65f74a09-8796-4562-e133-440814d37225"
      },
      "source": [
        "islas.index(\"La Gomera\")"
      ],
      "execution_count": 39,
      "outputs": [
        {
          "output_type": "execute_result",
          "data": {
            "text/plain": [
              "3"
            ]
          },
          "metadata": {},
          "execution_count": 39
        }
      ]
    },
    {
      "cell_type": "markdown",
      "metadata": {
        "id": "74LCirh7T434"
      },
      "source": [
        "11. Añada \"La Graciosa\" a la lista \"islas\""
      ]
    },
    {
      "cell_type": "code",
      "metadata": {
        "id": "FXRfOTNfOeWu"
      },
      "source": [
        "islas.append(\"La Graciosa\")"
      ],
      "execution_count": 47,
      "outputs": []
    },
    {
      "cell_type": "markdown",
      "metadata": {
        "id": "Ajf8AN-7Wb9K"
      },
      "source": [
        "12. Compruebe si \"La Graciosa\" está en la lista \"islas\""
      ]
    },
    {
      "cell_type": "code",
      "metadata": {
        "colab": {
          "base_uri": "https://localhost:8080/"
        },
        "id": "qmE1ofvDOnJ-",
        "outputId": "599e89ed-8315-4666-c273-67a023b218e5"
      },
      "source": [
        "print(islas)\n",
        "\"La Graciosa \" in islas\n"
      ],
      "execution_count": 40,
      "outputs": [
        {
          "output_type": "stream",
          "name": "stdout",
          "text": [
            "['El Hierro', 'Fuerteventura', 'Gran Canaria', 'La Gomera', 'La Palma', 'Lanzarote', 'Tenerife']\n"
          ]
        },
        {
          "output_type": "execute_result",
          "data": {
            "text/plain": [
              "False"
            ]
          },
          "metadata": {},
          "execution_count": 40
        }
      ]
    },
    {
      "cell_type": "markdown",
      "metadata": {
        "id": "-2PaFdVfW0W1"
      },
      "source": [
        "13. Elimine \"La Graciosa\" de la lista \"islas\" y compruebe si \"La Graciosa\" está en la lista \"islas\""
      ]
    },
    {
      "cell_type": "code",
      "metadata": {
        "id": "fLdtq7FBOrT_"
      },
      "source": [
        "posicion = islas.index(\"La Graciosa\")\n",
        "del islas[posicion] "
      ],
      "execution_count": 48,
      "outputs": []
    },
    {
      "cell_type": "markdown",
      "metadata": {
        "id": "mag-C9DnYxM1"
      },
      "source": [
        "14. Muestre los elementos de la lista de uno en uno"
      ]
    },
    {
      "cell_type": "code",
      "metadata": {
        "colab": {
          "base_uri": "https://localhost:8080/"
        },
        "id": "_nqoyv5iPSTL",
        "outputId": "2db23425-6626-47d0-c404-10efea360576"
      },
      "source": [
        "for i, j in enumerate(islas):\n",
        "  print(j)"
      ],
      "execution_count": 36,
      "outputs": [
        {
          "output_type": "stream",
          "name": "stdout",
          "text": [
            "Tenerife\n",
            "Gran Canaria\n",
            "La Gomera\n",
            "La Palma\n",
            "El Hierro\n",
            "Lanzarote\n",
            "Fuerteventura\n"
          ]
        }
      ]
    },
    {
      "cell_type": "markdown",
      "metadata": {
        "id": "f44HAA2IIfIZ"
      },
      "source": [
        "15. Pregunte al usuario en qué isla reside, almacénelo en la variable isla e indique al usuario \"Resides en la isla ....\""
      ]
    },
    {
      "cell_type": "code",
      "metadata": {
        "colab": {
          "base_uri": "https://localhost:8080/"
        },
        "id": "9uKoO8PSPioT",
        "outputId": "207c8b67-21fe-43db-9186-bb811524661d"
      },
      "source": [
        "isla=input(\"¿En que isla vives?\")\n",
        "print(\"Resides en la isla de \" + isla)"
      ],
      "execution_count": 31,
      "outputs": [
        {
          "output_type": "stream",
          "name": "stdout",
          "text": [
            "¿En que isla vives?sdgad\n",
            "Resides en la isla de sdgad\n"
          ]
        }
      ]
    },
    {
      "cell_type": "markdown",
      "metadata": {
        "id": "cIWa1oxZJCeZ"
      },
      "source": [
        "16. Compruebe si la isla está en la lista de islas y muestre un mensaje indicando \"Resides en una isla de las Islas Canarias\" en caso afirmativo o \"La isla .... no pertenece a las Islas Canarias\" en caso negativo"
      ]
    },
    {
      "cell_type": "code",
      "metadata": {
        "colab": {
          "base_uri": "https://localhost:8080/"
        },
        "id": "zOoU1XFBP5zR",
        "outputId": "1256b3e6-8b4f-45fe-88cb-817dc24006b0"
      },
      "source": [
        "if isla in islas:\n",
        "  print(\"resides en las islas Canarias\")\n",
        "else:\n",
        "  print(\"No resides en las islas Canarias\")"
      ],
      "execution_count": 32,
      "outputs": [
        {
          "output_type": "stream",
          "name": "stdout",
          "text": [
            "No resides en las islas Canarias\n"
          ]
        }
      ]
    }
  ]
}